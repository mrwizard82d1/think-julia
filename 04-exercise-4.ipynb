{
 "cells": [
  {
   "cell_type": "markdown",
   "id": "6fa9a58c",
   "metadata": {},
   "source": [
    "# Exercise 4"
   ]
  },
  {
   "cell_type": "markdown",
   "id": "217402d0",
   "metadata": {},
   "source": [
    "Function that draws a square using a supplied turtle and a length, len"
   ]
  },
  {
   "cell_type": "code",
   "execution_count": null,
   "id": "7a670d8e",
   "metadata": {},
   "outputs": [],
   "source": [
    "using ThinkJulia"
   ]
  },
  {
   "cell_type": "code",
   "execution_count": null,
   "id": "c3cfa909",
   "metadata": {},
   "outputs": [],
   "source": [
    "function square(t, len)\n",
    "    @svg begin\n",
    "        for i in 1:4\n",
    "            forward(t, len)\n",
    "            turn(t, 90)\n",
    "        end\n",
    "    end\n",
    "end"
   ]
  },
  {
   "cell_type": "code",
   "execution_count": null,
   "id": "1531ce98",
   "metadata": {},
   "outputs": [],
   "source": [
    "function draw_square()\n",
    "    turtle = Turtle()\n",
    "    square(turtle, 150)\n",
    "end"
   ]
  },
  {
   "cell_type": "code",
   "execution_count": null,
   "id": "defbf8cf",
   "metadata": {},
   "outputs": [],
   "source": [
    "draw_square()"
   ]
  },
  {
   "cell_type": "code",
   "execution_count": null,
   "id": "ff850425",
   "metadata": {},
   "outputs": [],
   "source": []
  }
 ],
 "metadata": {
  "kernelspec": {
   "display_name": "Julia 1.6.3",
   "language": "julia",
   "name": "julia-1.6"
  },
  "language_info": {
   "file_extension": ".jl",
   "mimetype": "application/julia",
   "name": "julia",
   "version": "1.6.3"
  }
 },
 "nbformat": 4,
 "nbformat_minor": 5
}
