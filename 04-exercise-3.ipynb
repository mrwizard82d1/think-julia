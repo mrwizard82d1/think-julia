{
 "cells": [
  {
   "cell_type": "markdown",
   "id": "e94b77d3",
   "metadata": {},
   "source": [
    "# Exercise 3"
   ]
  },
  {
   "cell_type": "markdown",
   "id": "bfeb503b",
   "metadata": {},
   "source": [
    "Function that draws a square using a supplied turtle"
   ]
  },
  {
   "cell_type": "code",
   "execution_count": null,
   "id": "b1dc06c1",
   "metadata": {},
   "outputs": [],
   "source": [
    "using ThinkJulia"
   ]
  },
  {
   "cell_type": "code",
   "execution_count": null,
   "id": "9f25c4eb",
   "metadata": {},
   "outputs": [],
   "source": [
    "function square(t)\n",
    "    @svg begin\n",
    "        for i in 1:4\n",
    "            forward(t, 100)\n",
    "            turn(t, 90)\n",
    "        end\n",
    "    end\n",
    "end"
   ]
  },
  {
   "cell_type": "code",
   "execution_count": null,
   "id": "a4253a94",
   "metadata": {},
   "outputs": [],
   "source": [
    "function draw_square()\n",
    "    turtle = Turtle()\n",
    "    square(turtle)\n",
    "end"
   ]
  },
  {
   "cell_type": "code",
   "execution_count": null,
   "id": "bbddb49d",
   "metadata": {},
   "outputs": [],
   "source": [
    "draw_square()"
   ]
  },
  {
   "cell_type": "code",
   "execution_count": null,
   "id": "bc705d6d",
   "metadata": {},
   "outputs": [],
   "source": []
  }
 ],
 "metadata": {
  "kernelspec": {
   "display_name": "Julia 1.6.3",
   "language": "julia",
   "name": "julia-1.6"
  },
  "language_info": {
   "file_extension": ".jl",
   "mimetype": "application/julia",
   "name": "julia",
   "version": "1.6.3"
  }
 },
 "nbformat": 4,
 "nbformat_minor": 5
}
