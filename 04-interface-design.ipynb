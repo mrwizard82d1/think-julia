{
 "cells": [
  {
   "cell_type": "code",
   "execution_count": null,
   "id": "e341808d",
   "metadata": {},
   "outputs": [],
   "source": [
    "using ThinkJulia"
   ]
  },
  {
   "cell_type": "code",
   "execution_count": null,
   "id": "34480017",
   "metadata": {},
   "outputs": [],
   "source": [
    "turtle = Turtle()"
   ]
  },
  {
   "cell_type": "code",
   "execution_count": null,
   "id": "87ee1855",
   "metadata": {},
   "outputs": [],
   "source": [
    "@svg begin\n",
    "    forward(turtle, 100)\n",
    "    turn(turtle, 90)\n",
    "    forward(turtle, 100)\n",
    "end"
   ]
  },
  {
   "cell_type": "code",
   "execution_count": null,
   "id": "e7e0a6d4",
   "metadata": {},
   "outputs": [],
   "source": [
    "@svg begin\n",
    "    forward(turtle, 100)\n",
    "    turn(turtle, -90)\n",
    "    forward(turtle, 100)\n",
    "    turn(turtle, -90)\n",
    "    forward(turtle, 100)\n",
    "    turn(turtle, -90)\n",
    "    forward(turtle, 100)\n",
    "    turn(turtle, -90)\n",
    "end"
   ]
  },
  {
   "cell_type": "code",
   "execution_count": null,
   "id": "214a4ead",
   "metadata": {},
   "outputs": [],
   "source": [
    "for i in 1:4\n",
    "    println(\"Hello\")\n",
    "end"
   ]
  },
  {
   "cell_type": "code",
   "execution_count": null,
   "id": "9449af5f",
   "metadata": {},
   "outputs": [],
   "source": [
    "turtle = Turtle()\n",
    "@svg begin\n",
    "    for i in 1:4\n",
    "        forward(turtle, 100)\n",
    "        turn(turtle, -90)\n",
    "    end\n",
    "end"
   ]
  },
  {
   "cell_type": "code",
   "execution_count": null,
   "id": "1902e1fa",
   "metadata": {},
   "outputs": [],
   "source": []
  }
 ],
 "metadata": {
  "kernelspec": {
   "display_name": "Julia 1.6.3",
   "language": "julia",
   "name": "julia-1.6"
  },
  "language_info": {
   "file_extension": ".jl",
   "mimetype": "application/julia",
   "name": "julia",
   "version": "1.6.3"
  }
 },
 "nbformat": 4,
 "nbformat_minor": 5
}
