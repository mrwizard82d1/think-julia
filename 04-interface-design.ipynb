{
 "cells": [
  {
   "cell_type": "code",
   "execution_count": null,
   "id": "26967ff2",
   "metadata": {},
   "outputs": [],
   "source": [
    "using ThinkJulia"
   ]
  },
  {
   "cell_type": "code",
   "execution_count": null,
   "id": "40d26712",
   "metadata": {},
   "outputs": [],
   "source": [
    "turtle = Turtle()"
   ]
  },
  {
   "cell_type": "code",
   "execution_count": null,
   "id": "0ab374d9",
   "metadata": {},
   "outputs": [],
   "source": [
    "@svg begin\n",
    "    forward(turtle, 100)\n",
    "    turn(turtle, 90)\n",
    "    forward(turtle, 100)\n",
    "end"
   ]
  },
  {
   "cell_type": "code",
   "execution_count": null,
   "id": "dc0fb649",
   "metadata": {},
   "outputs": [],
   "source": []
  }
 ],
 "metadata": {
  "kernelspec": {
   "display_name": "Julia 1.6.3",
   "language": "julia",
   "name": "julia-1.6"
  },
  "language_info": {
   "file_extension": ".jl",
   "mimetype": "application/julia",
   "name": "julia",
   "version": "1.6.3"
  }
 },
 "nbformat": 4,
 "nbformat_minor": 5
}
