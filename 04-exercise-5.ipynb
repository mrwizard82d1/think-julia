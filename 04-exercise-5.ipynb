{
 "cells": [
  {
   "cell_type": "markdown",
   "id": "534fa8e4",
   "metadata": {},
   "source": [
    "# Exercise 5"
   ]
  },
  {
   "cell_type": "markdown",
   "id": "bcf99db6",
   "metadata": {},
   "source": [
    "Function that draws a polygon using a supplied turtle,  a length, \n",
    "len, and a number of sides, n"
   ]
  },
  {
   "cell_type": "code",
   "execution_count": null,
   "id": "cdcfb1eb",
   "metadata": {},
   "outputs": [],
   "source": [
    "using ThinkJulia"
   ]
  },
  {
   "cell_type": "code",
   "execution_count": null,
   "id": "db53a9cc",
   "metadata": {},
   "outputs": [],
   "source": [
    "function polygon(t, len, n)\n",
    "    @svg begin\n",
    "        for i in 1:n\n",
    "            forward(t, len)\n",
    "            turn(t, (360 / n))\n",
    "        end\n",
    "    end\n",
    "end"
   ]
  },
  {
   "cell_type": "code",
   "execution_count": null,
   "id": "27020f0a",
   "metadata": {},
   "outputs": [],
   "source": [
    "function draw_square()\n",
    "    turtle = Turtle()\n",
    "    polygon(turtle, 100, 4)\n",
    "end"
   ]
  },
  {
   "cell_type": "code",
   "execution_count": null,
   "id": "bfcdb079",
   "metadata": {},
   "outputs": [],
   "source": [
    "function draw_pentagon()\n",
    "    turtle = Turtle()\n",
    "    polygon(turtle, 100, 5)\n",
    "end"
   ]
  },
  {
   "cell_type": "code",
   "execution_count": null,
   "id": "0ff72afd",
   "metadata": {},
   "outputs": [],
   "source": [
    "function draw_hexagon()\n",
    "    turtle = Turtle()\n",
    "    polygon(turtle, 100, 6)\n",
    "end"
   ]
  },
  {
   "cell_type": "code",
   "execution_count": null,
   "id": "e6cd059f",
   "metadata": {},
   "outputs": [],
   "source": [
    "draw_square()"
   ]
  },
  {
   "cell_type": "code",
   "execution_count": null,
   "id": "9735b9b8",
   "metadata": {},
   "outputs": [],
   "source": [
    "draw_pentagon()"
   ]
  },
  {
   "cell_type": "code",
   "execution_count": null,
   "id": "4d33da22",
   "metadata": {},
   "outputs": [],
   "source": [
    "draw_hexagon()"
   ]
  }
 ],
 "metadata": {
  "kernelspec": {
   "display_name": "Julia 1.6.3",
   "language": "julia",
   "name": "julia-1.6"
  },
  "language_info": {
   "file_extension": ".jl",
   "mimetype": "application/julia",
   "name": "julia",
   "version": "1.6.3"
  }
 },
 "nbformat": 4,
 "nbformat_minor": 5
}
