{
 "cells": [
  {
   "cell_type": "markdown",
   "metadata": {},
   "source": [
    "# Exercise 4-6\n",
    "\n",
    "Draw a circle using turtle graphics"
   ]
  },
  {
   "cell_type": "code",
   "execution_count": null,
   "metadata": {},
   "outputs": [],
   "source": [
    "using ThinkJulia"
   ]
  },
  {
   "cell_type": "code",
   "execution_count": null,
   "metadata": {},
   "outputs": [],
   "source": [
    "function polygon(t, len, n, m)\n",
    "    @svg begin\n",
    "        for i in 1:m\n",
    "            forward(t, len)\n",
    "            turn(t, (360 / n))\n",
    "        end\n",
    "    end\n",
    "end"
   ]
  },
  {
   "cell_type": "code",
   "execution_count": null,
   "metadata": {},
   "outputs": [],
   "source": [
    "function draw_square()\n",
    "    turtle = Turtle()\n",
    "    polygon(turtle, 100, 4, 4)\n",
    "end"
   ]
  },
  {
   "cell_type": "code",
   "execution_count": null,
   "metadata": {},
   "outputs": [],
   "source": [
    "function draw_pentagon()\n",
    "    turtle = Turtle()\n",
    "    polygon(turtle, 100, 5, 5)\n",
    "end"
   ]
  },
  {
   "cell_type": "code",
   "execution_count": null,
   "metadata": {},
   "outputs": [],
   "source": [
    "function draw_hexagon()\n",
    "    turtle = Turtle()\n",
    "    polygon(turtle, 100, 6, 6)\n",
    "end"
   ]
  },
  {
   "cell_type": "code",
   "execution_count": null,
   "metadata": {},
   "outputs": [],
   "source": [
    "function circle(t, r)\n",
    "    circumference = 2π * r\n",
    "    len = 5\n",
    "    n = Int64(trunc(circumference / len))\n",
    "    polygon(t, len, n, n)\n",
    "end"
   ]
  },
  {
   "cell_type": "code",
   "execution_count": null,
   "metadata": {},
   "outputs": [],
   "source": [
    "function arc(t, r, angle)\n",
    "    circumference = 2π * r\n",
    "    len = 5\n",
    "    n = Int64(trunc(circumference / len))\n",
    "    m = Int64(trunc(n * angle / 360))\n",
    "    polygon(t, len, n, m)\n",
    "end"
   ]
  },
  {
   "cell_type": "code",
   "execution_count": null,
   "metadata": {},
   "outputs": [],
   "source": [
    "turtle = Turtle()\n",
    "arc(turtle, 50, 120)"
   ]
  },
  {
   "cell_type": "code",
   "execution_count": null,
   "metadata": {},
   "outputs": [],
   "source": [
    "turtle = Turtle()\n",
    "arc(turtle, 50, 240)"
   ]
  },
  {
   "cell_type": "code",
   "execution_count": null,
   "metadata": {},
   "outputs": [],
   "source": [
    "turtle = Turtle()\n",
    "arc(turtle, 50, 360)"
   ]
  },
  {
   "cell_type": "code",
   "execution_count": null,
   "metadata": {},
   "outputs": [],
   "source": []
  }
 ],
 "metadata": {
  "kernelspec": {
   "display_name": "Julia 1.6.3",
   "language": "julia",
   "name": "julia-1.6"
  },
  "language_info": {
   "file_extension": ".jl",
   "mimetype": "application/julia",
   "name": "julia",
   "version": "1.6.3"
  },
  "orig_nbformat": 4
 },
 "nbformat": 4,
 "nbformat_minor": 2
}
