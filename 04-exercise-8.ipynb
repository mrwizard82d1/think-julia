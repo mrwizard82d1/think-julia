{
 "cells": [
  {
   "cell_type": "markdown",
   "metadata": {},
   "source": [
    "# Exercise 4-8\n",
    "\n",
    "The version of `arc` in _Refactoring_ is not very accurate because \n",
    "the linear approximation of the circle is always outside the \n",
    "true circle. This solution shows a way to reduce the effect of \n",
    "this error."
   ]
  },
  {
   "cell_type": "code",
   "execution_count": null,
   "metadata": {},
   "outputs": [],
   "source": [
    "using ThinkJulia"
   ]
  },
  {
   "cell_type": "code",
   "execution_count": null,
   "metadata": {},
   "outputs": [],
   "source": [
    "\"\"\"\n",
    "polyline (t, n, len, angle)\n",
    "\n",
    "Draws n regular line segments with the specified length and rotated by angle (in degrees) relative to each other using the specified turtle.\n",
    "\n",
    "- t: turtle\n",
    "- n: number of line segments\n",
    "- len: length of each segment\n",
    "- angle: angle between each segment\n",
    "\"\"\"\n",
    "function polyline(t, n, len, angle)\n",
    "    for i in 1:n\n",
    "        forward(t, len)\n",
    "        turn(t, -angle)\n",
    "    end\n",
    "end"
   ]
  },
  {
   "cell_type": "code",
   "execution_count": null,
   "metadata": {},
   "outputs": [],
   "source": [
    "\"\"\"\n",
    "arc (t, r, angle)\n",
    "\n",
    "Draws an arc with the specified radius and through the \n",
    "specified angle\n",
    "\n",
    "- t: turtle\n",
    "- r: radius\n",
    "- angle: angle subtended by the arc in degrees\n",
    "\"\"\"\n",
    "function arc(t, r, angle)\n",
    "    arc_len = 2π * r * abs(angle) / 360\n",
    "    # Approximate length of 4 pixels; minimum of 3\n",
    "    n = trunc(arc_len / 4) + 3\n",
    "    step_len = arc_len / n\n",
    "    step_angle = angle / n\n",
    "\n",
    "    # Making a slight left turn before starting reduces the error caused by the linear approximation of the arc\n",
    "    turn(t, -step_angle / 2)\n",
    "    polyline(t, n, step_len, step_angle)\n",
    "    turn(t, step_angle / 2)\n",
    "end"
   ]
  },
  {
   "cell_type": "code",
   "execution_count": null,
   "metadata": {},
   "outputs": [],
   "source": [
    "turtle = Turtle()\n",
    "@svg begin\n",
    "    arc(turtle, 50, 360)\n",
    "end"
   ]
  },
  {
   "cell_type": "code",
   "execution_count": null,
   "metadata": {},
   "outputs": [],
   "source": [
    "turtle = Turtle()\n",
    "@svg begin\n",
    "    arc(turtle, 50, 240)\n",
    "end "
   ]
  },
  {
   "cell_type": "code",
   "execution_count": null,
   "metadata": {},
   "outputs": [],
   "source": [
    "turtle = Turtle()\n",
    "@svg begin\n",
    "    arc(turtle, 50, 120)\n",
    "end"
   ]
  },
  {
   "cell_type": "code",
   "execution_count": null,
   "metadata": {},
   "outputs": [],
   "source": [
    "turtle = Turtle()\n",
    "@svg begin\n",
    "    arc(turtle, 50, 30)\n",
    "end"
   ]
  },
  {
   "cell_type": "code",
   "execution_count": null,
   "metadata": {},
   "outputs": [],
   "source": [
    "turtle = Turtle()\n",
    "@svg begin\n",
    "    arc(turtle, 50, 15)\n",
    "end"
   ]
  },
  {
   "cell_type": "code",
   "execution_count": null,
   "metadata": {},
   "outputs": [],
   "source": [
    "turtle = Turtle()\n",
    "@svg begin\n",
    "    arc(turtle, 50, 8)\n",
    "end"
   ]
  },
  {
   "cell_type": "code",
   "execution_count": null,
   "metadata": {},
   "outputs": [],
   "source": [
    "turtle = Turtle()\n",
    "@svg begin\n",
    "    arc(turtle, 50, 4)\n",
    "end"
   ]
  },
  {
   "cell_type": "code",
   "execution_count": null,
   "metadata": {},
   "outputs": [],
   "source": [
    "turtle = Turtle()\n",
    "@svg begin\n",
    "    arc(turtle, 50, 2)\n",
    "end"
   ]
  },
  {
   "cell_type": "code",
   "execution_count": null,
   "metadata": {},
   "outputs": [],
   "source": [
    "turtle = Turtle()\n",
    "@svg begin\n",
    "    arc(turtle, 50, 1)\n",
    "end"
   ]
  },
  {
   "cell_type": "code",
   "execution_count": null,
   "metadata": {},
   "outputs": [],
   "source": [
    "turtle = Turtle()\n",
    "@svg begin\n",
    "    arc(turtle, 50, 0)\n",
    "end"
   ]
  },
  {
   "cell_type": "code",
   "execution_count": null,
   "metadata": {},
   "outputs": [],
   "source": []
  }
 ],
 "metadata": {
  "kernelspec": {
   "display_name": "Julia 1.6.3",
   "language": "julia",
   "name": "julia-1.6"
  },
  "language_info": {
   "file_extension": ".jl",
   "mimetype": "application/julia",
   "name": "julia",
   "version": "1.6.3"
  }
 },
 "nbformat": 4,
 "nbformat_minor": 4
}
