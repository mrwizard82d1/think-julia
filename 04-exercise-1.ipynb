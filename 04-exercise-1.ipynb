{
 "cells": [
  {
   "cell_type": "markdown",
   "id": "699816d6",
   "metadata": {},
   "source": [
    "# Exercise 4-1"
   ]
  },
  {
   "cell_type": "markdown",
   "id": "e627efe8",
   "metadata": {},
   "source": [
    "Using turtle graphics to draw a square"
   ]
  },
  {
   "cell_type": "code",
   "execution_count": null,
   "id": "3a13d43b",
   "metadata": {},
   "outputs": [],
   "source": [
    "using ThinkJulia"
   ]
  },
  {
   "cell_type": "code",
   "execution_count": null,
   "id": "5e103659",
   "metadata": {},
   "outputs": [],
   "source": [
    "turtle = Turtle()"
   ]
  },
  {
   "cell_type": "code",
   "execution_count": null,
   "id": "06015798",
   "metadata": {},
   "outputs": [],
   "source": [
    "@svg begin\n",
    "    forward(turtle, 100)\n",
    "    turn(turtle, 90)\n",
    "    forward(turtle, 100)\n",
    "    turn(turtle, 90)\n",
    "    forward(turtle, 100)\n",
    "    turn(turtle, 90)\n",
    "    forward(turtle, 100)\n",
    "    turn(turtle, 90)\n",
    "end"
   ]
  },
  {
   "cell_type": "code",
   "execution_count": null,
   "id": "130c8b7a",
   "metadata": {},
   "outputs": [],
   "source": []
  }
 ],
 "metadata": {
  "kernelspec": {
   "display_name": "Julia 1.6.3",
   "language": "julia",
   "name": "julia-1.6"
  },
  "language_info": {
   "file_extension": ".jl",
   "mimetype": "application/julia",
   "name": "julia",
   "version": "1.6.3"
  }
 },
 "nbformat": 4,
 "nbformat_minor": 5
}
