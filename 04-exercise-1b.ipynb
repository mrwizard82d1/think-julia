{
 "cells": [
  {
   "cell_type": "markdown",
   "id": "5121e069",
   "metadata": {},
   "source": [
    "# Exercise 4-1b"
   ]
  },
  {
   "cell_type": "markdown",
   "id": "eee49c68",
   "metadata": {},
   "source": [
    "Using turtle graphics to draw a square (with repetition)"
   ]
  },
  {
   "cell_type": "code",
   "execution_count": null,
   "id": "69c2853c",
   "metadata": {},
   "outputs": [],
   "source": [
    "using ThinkJulia"
   ]
  },
  {
   "cell_type": "code",
   "execution_count": null,
   "id": "b6538d04",
   "metadata": {},
   "outputs": [],
   "source": [
    "turtle = Turtle()"
   ]
  },
  {
   "cell_type": "code",
   "execution_count": null,
   "id": "abedf669",
   "metadata": {},
   "outputs": [],
   "source": [
    "@svg begin\n",
    "    for i in 1:4\n",
    "        forward(turtle, 100)\n",
    "        turn(turtle, 90)\n",
    "    end\n",
    "end"
   ]
  },
  {
   "cell_type": "code",
   "execution_count": null,
   "id": "134ba149",
   "metadata": {},
   "outputs": [],
   "source": []
  }
 ],
 "metadata": {
  "kernelspec": {
   "display_name": "Julia 1.6.3",
   "language": "julia",
   "name": "julia-1.6"
  },
  "language_info": {
   "file_extension": ".jl",
   "mimetype": "application/julia",
   "name": "julia",
   "version": "1.6.3"
  }
 },
 "nbformat": 4,
 "nbformat_minor": 5
}
