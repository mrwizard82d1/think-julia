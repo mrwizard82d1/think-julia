{
 "cells": [
  {
   "cell_type": "markdown",
   "id": "8a77a37e",
   "metadata": {},
   "source": [
    "# Exercise 2"
   ]
  },
  {
   "cell_type": "markdown",
   "id": "debe9d74",
   "metadata": {},
   "source": [
    "Function that draws a square using a supplied turtle"
   ]
  },
  {
   "cell_type": "code",
   "execution_count": null,
   "id": "d39828ee",
   "metadata": {},
   "outputs": [],
   "source": [
    "using ThinkJulia"
   ]
  },
  {
   "cell_type": "code",
   "execution_count": null,
   "id": "52818bff",
   "metadata": {},
   "outputs": [],
   "source": [
    "function square(t)\n",
    "    @svg begin\n",
    "        for i in 1:4\n",
    "            forward(t, 100)\n",
    "            turn(t, 90)\n",
    "        end\n",
    "    end\n",
    "end"
   ]
  },
  {
   "cell_type": "code",
   "execution_count": null,
   "id": "9678c03f",
   "metadata": {},
   "outputs": [],
   "source": [
    "turtle = Turtle()"
   ]
  },
  {
   "cell_type": "code",
   "execution_count": null,
   "id": "5377f78f",
   "metadata": {},
   "outputs": [],
   "source": [
    "square(turtle)"
   ]
  },
  {
   "cell_type": "code",
   "execution_count": null,
   "id": "b6ea6eaa",
   "metadata": {},
   "outputs": [],
   "source": []
  }
 ],
 "metadata": {
  "kernelspec": {
   "display_name": "Julia 1.6.3",
   "language": "julia",
   "name": "julia-1.6"
  },
  "language_info": {
   "file_extension": ".jl",
   "mimetype": "application/julia",
   "name": "julia",
   "version": "1.6.3"
  }
 },
 "nbformat": 4,
 "nbformat_minor": 5
}
